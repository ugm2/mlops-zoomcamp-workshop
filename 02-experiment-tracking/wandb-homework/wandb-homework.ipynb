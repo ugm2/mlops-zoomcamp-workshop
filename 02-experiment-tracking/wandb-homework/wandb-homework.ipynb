{
 "cells": [
  {
   "attachments": {},
   "cell_type": "markdown",
   "metadata": {},
   "source": [
    "# Weights & Biases workshop\n",
    "\n",
    "Video: https://www.youtube.com/watch?v=yNyqFMwEyL4\n",
    "\n",
    "Github repository: https://wandb.me/mlops-zoomcamp-github\n",
    "\n",
    "## Homework with Weights & Biases\n",
    "\n",
    "The goal of this homework is to get familiar with Weights & Biases for experiment tracking, model management, hyperparameter optimization, and many more.\n",
    "\n",
    "Before getting started with the homework, you need to have a Weights & Biases account. You can do so by visiting wandb.ai/site and clicking on the Sign Up button.\n",
    "\n",
    "## Q1. Install the Package\n",
    "\n",
    "To get started with Weights & Biases you'll need to install the appropriate Python package.\n",
    "\n",
    "For this we recommend creating a separate Python environment, for example, you can use conda environments, and then install the package there with pip or conda.\n",
    "\n",
    "Following are the libraries you need to install:\n",
    "\n",
    "* pandas\n",
    "* matplotlib\n",
    "* scikit-learn\n",
    "* pyarrow\n",
    "* wandb\n",
    "\n",
    "Once you installed the package, run the command wandb --version and check the output."
   ]
  },
  {
   "cell_type": "code",
   "execution_count": 2,
   "metadata": {},
   "outputs": [
    {
     "name": "stdout",
     "output_type": "stream",
     "text": [
      "Requirement already satisfied: pandas in /Users/unaigaraymaestre/miniconda/envs/mlops/lib/python3.9/site-packages (1.5.2)\n",
      "Requirement already satisfied: matplotlib in /Users/unaigaraymaestre/miniconda/envs/mlops/lib/python3.9/site-packages (3.6.2)\n",
      "Requirement already satisfied: scikit-learn in /Users/unaigaraymaestre/miniconda/envs/mlops/lib/python3.9/site-packages (1.2.0)\n",
      "Requirement already satisfied: pyarrow in /Users/unaigaraymaestre/miniconda/envs/mlops/lib/python3.9/site-packages (10.0.1)\n",
      "Requirement already satisfied: wandb in /Users/unaigaraymaestre/miniconda/envs/mlops/lib/python3.9/site-packages (0.15.3)\n",
      "Requirement already satisfied: pytz>=2020.1 in /Users/unaigaraymaestre/miniconda/envs/mlops/lib/python3.9/site-packages (from pandas) (2022.7)\n",
      "Requirement already satisfied: python-dateutil>=2.8.1 in /Users/unaigaraymaestre/miniconda/envs/mlops/lib/python3.9/site-packages (from pandas) (2.8.2)\n",
      "Requirement already satisfied: numpy>=1.20.3 in /Users/unaigaraymaestre/miniconda/envs/mlops/lib/python3.9/site-packages (from pandas) (1.23.5)\n",
      "Requirement already satisfied: pyparsing>=2.2.1 in /Users/unaigaraymaestre/miniconda/envs/mlops/lib/python3.9/site-packages (from matplotlib) (3.0.9)\n",
      "Requirement already satisfied: fonttools>=4.22.0 in /Users/unaigaraymaestre/miniconda/envs/mlops/lib/python3.9/site-packages (from matplotlib) (4.38.0)\n",
      "Requirement already satisfied: contourpy>=1.0.1 in /Users/unaigaraymaestre/miniconda/envs/mlops/lib/python3.9/site-packages (from matplotlib) (1.0.6)\n",
      "Requirement already satisfied: packaging>=20.0 in /Users/unaigaraymaestre/miniconda/envs/mlops/lib/python3.9/site-packages (from matplotlib) (22.0)\n",
      "Requirement already satisfied: pillow>=6.2.0 in /Users/unaigaraymaestre/miniconda/envs/mlops/lib/python3.9/site-packages (from matplotlib) (9.3.0)\n",
      "Requirement already satisfied: cycler>=0.10 in /Users/unaigaraymaestre/miniconda/envs/mlops/lib/python3.9/site-packages (from matplotlib) (0.11.0)\n",
      "Requirement already satisfied: kiwisolver>=1.0.1 in /Users/unaigaraymaestre/miniconda/envs/mlops/lib/python3.9/site-packages (from matplotlib) (1.4.4)\n",
      "Requirement already satisfied: joblib>=1.1.1 in /Users/unaigaraymaestre/miniconda/envs/mlops/lib/python3.9/site-packages (from scikit-learn) (1.2.0)\n",
      "Requirement already satisfied: threadpoolctl>=2.0.0 in /Users/unaigaraymaestre/miniconda/envs/mlops/lib/python3.9/site-packages (from scikit-learn) (3.1.0)\n",
      "Requirement already satisfied: scipy>=1.3.2 in /Users/unaigaraymaestre/miniconda/envs/mlops/lib/python3.9/site-packages (from scikit-learn) (1.9.3)\n",
      "Requirement already satisfied: requests<3,>=2.0.0 in /Users/unaigaraymaestre/miniconda/envs/mlops/lib/python3.9/site-packages (from wandb) (2.28.1)\n",
      "Requirement already satisfied: docker-pycreds>=0.4.0 in /Users/unaigaraymaestre/miniconda/envs/mlops/lib/python3.9/site-packages (from wandb) (0.4.0)\n",
      "Requirement already satisfied: appdirs>=1.4.3 in /Users/unaigaraymaestre/miniconda/envs/mlops/lib/python3.9/site-packages (from wandb) (1.4.4)\n",
      "Requirement already satisfied: sentry-sdk>=1.0.0 in /Users/unaigaraymaestre/miniconda/envs/mlops/lib/python3.9/site-packages (from wandb) (1.25.0)\n",
      "Requirement already satisfied: setuptools in /Users/unaigaraymaestre/miniconda/envs/mlops/lib/python3.9/site-packages (from wandb) (65.5.0)\n",
      "Requirement already satisfied: setproctitle in /Users/unaigaraymaestre/miniconda/envs/mlops/lib/python3.9/site-packages (from wandb) (1.3.2)\n",
      "Requirement already satisfied: pathtools in /Users/unaigaraymaestre/miniconda/envs/mlops/lib/python3.9/site-packages (from wandb) (0.1.2)\n",
      "Requirement already satisfied: protobuf!=4.21.0,<5,>=3.19.0 in /Users/unaigaraymaestre/miniconda/envs/mlops/lib/python3.9/site-packages (from wandb) (4.21.12)\n",
      "Requirement already satisfied: PyYAML in /Users/unaigaraymaestre/miniconda/envs/mlops/lib/python3.9/site-packages (from wandb) (6.0)\n",
      "Requirement already satisfied: typing-extensions in /Users/unaigaraymaestre/miniconda/envs/mlops/lib/python3.9/site-packages (from wandb) (4.6.3)\n",
      "Requirement already satisfied: GitPython!=3.1.29,>=1.0.0 in /Users/unaigaraymaestre/miniconda/envs/mlops/lib/python3.9/site-packages (from wandb) (3.1.30)\n",
      "Requirement already satisfied: Click!=8.0.0,>=7.0 in /Users/unaigaraymaestre/miniconda/envs/mlops/lib/python3.9/site-packages (from wandb) (8.1.3)\n",
      "Requirement already satisfied: psutil>=5.0.0 in /Users/unaigaraymaestre/miniconda/envs/mlops/lib/python3.9/site-packages (from wandb) (5.9.0)\n",
      "Requirement already satisfied: six>=1.4.0 in /Users/unaigaraymaestre/miniconda/envs/mlops/lib/python3.9/site-packages (from docker-pycreds>=0.4.0->wandb) (1.16.0)\n",
      "Requirement already satisfied: gitdb<5,>=4.0.1 in /Users/unaigaraymaestre/miniconda/envs/mlops/lib/python3.9/site-packages (from GitPython!=3.1.29,>=1.0.0->wandb) (4.0.10)\n",
      "Requirement already satisfied: certifi>=2017.4.17 in /Users/unaigaraymaestre/miniconda/envs/mlops/lib/python3.9/site-packages (from requests<3,>=2.0.0->wandb) (2022.12.7)\n",
      "Requirement already satisfied: idna<4,>=2.5 in /Users/unaigaraymaestre/miniconda/envs/mlops/lib/python3.9/site-packages (from requests<3,>=2.0.0->wandb) (3.4)\n",
      "Requirement already satisfied: urllib3<1.27,>=1.21.1 in /Users/unaigaraymaestre/miniconda/envs/mlops/lib/python3.9/site-packages (from requests<3,>=2.0.0->wandb) (1.26.13)\n",
      "Requirement already satisfied: charset-normalizer<3,>=2 in /Users/unaigaraymaestre/miniconda/envs/mlops/lib/python3.9/site-packages (from requests<3,>=2.0.0->wandb) (2.1.1)\n",
      "Requirement already satisfied: smmap<6,>=3.0.1 in /Users/unaigaraymaestre/miniconda/envs/mlops/lib/python3.9/site-packages (from gitdb<5,>=4.0.1->GitPython!=3.1.29,>=1.0.0->wandb) (5.0.0)\n"
     ]
    }
   ],
   "source": [
    "!pip install pandas matplotlib scikit-learn pyarrow wandb"
   ]
  },
  {
   "cell_type": "code",
   "execution_count": 1,
   "metadata": {},
   "outputs": [
    {
     "name": "stdout",
     "output_type": "stream",
     "text": [
      "wandb, version 0.15.3\n"
     ]
    }
   ],
   "source": [
    "!wandb --version"
   ]
  },
  {
   "attachments": {},
   "cell_type": "markdown",
   "metadata": {},
   "source": [
    "What's the version that you have?"
   ]
  },
  {
   "attachments": {},
   "cell_type": "markdown",
   "metadata": {},
   "source": [
    "--> **0.15.3** <--"
   ]
  },
  {
   "attachments": {},
   "cell_type": "markdown",
   "metadata": {},
   "source": [
    "## Q2. Download and preprocess the data\n",
    "\n",
    "We'll use the Green Taxi Trip Records dataset to predict the amount of tips for each trip.\n",
    "\n",
    "Download the data for January, February and March 2022 in parquet format from here:\n",
    "\n",
    "https://www1.nyc.gov/site/tlc/about/tlc-trip-record-data.page\n",
    "\n",
    "Use the script preprocess_data.py located in the folder homework-wandb to preprocess the data.\n",
    "\n",
    "The script will:\n",
    "\n",
    "* initialize a Weights & Biases run.\n",
    "\n",
    "* load the data from the folder <TAXI_DATA_FOLDER> (the folder where you have downloaded the data),\n",
    "\n",
    "* fit a DictVectorizer on the training set (January 2022 data),\n",
    "\n",
    "* save the preprocessed datasets and the DictVectorizer to your Weights & Biases dashboard as an artifact of type preprocessed_dataset.\n",
    "\n",
    "Your task is to download the datasets and then execute this command (**run in terminal if first time**):"
   ]
  },
  {
   "cell_type": "code",
   "execution_count": 4,
   "metadata": {},
   "outputs": [
    {
     "name": "stdout",
     "output_type": "stream",
     "text": [
      "\u001b[34m\u001b[1mwandb\u001b[0m: Currently logged in as: \u001b[33mugaray96\u001b[0m. Use \u001b[1m`wandb login --relogin`\u001b[0m to force relogin\n",
      "\u001b[34m\u001b[1mwandb\u001b[0m: Tracking run with wandb version 0.15.3\n",
      "\u001b[34m\u001b[1mwandb\u001b[0m: Run data is saved locally in \u001b[35m\u001b[1m/Users/unaigaraymaestre/Desktop/Developer/mlops-zoomcamp-workshop/02-experiment-tracking/wandb-homework/wandb/run-20230605_223413-exmunlpx\u001b[0m\n",
      "\u001b[34m\u001b[1mwandb\u001b[0m: Run \u001b[1m`wandb offline`\u001b[0m to turn off syncing.\n",
      "\u001b[34m\u001b[1mwandb\u001b[0m: Syncing run \u001b[33msoft-sun-3\u001b[0m\n",
      "\u001b[34m\u001b[1mwandb\u001b[0m: ⭐️ View project at \u001b[34m\u001b[4mhttps://wandb.ai/ugaray96/wandb-homework\u001b[0m\n",
      "\u001b[34m\u001b[1mwandb\u001b[0m: 🚀 View run at \u001b[34m\u001b[4mhttps://wandb.ai/ugaray96/wandb-homework/runs/exmunlpx\u001b[0m\n",
      "\u001b[34m\u001b[1mwandb\u001b[0m: Adding directory to artifact (./output)... Done. 0.0s\n",
      "\u001b[34m\u001b[1mwandb\u001b[0m: Waiting for W&B process to finish... \u001b[32m(success).\u001b[0m\n",
      "\u001b[34m\u001b[1mwandb\u001b[0m: 🚀 View run \u001b[33msoft-sun-3\u001b[0m at: \u001b[34m\u001b[4mhttps://wandb.ai/ugaray96/wandb-homework/runs/exmunlpx\u001b[0m\n",
      "\u001b[34m\u001b[1mwandb\u001b[0m: Synced 6 W&B file(s), 0 media file(s), 4 artifact file(s) and 0 other file(s)\n",
      "\u001b[34m\u001b[1mwandb\u001b[0m: Find logs at: \u001b[35m\u001b[1m./wandb/run-20230605_223413-exmunlpx/logs\u001b[0m\n"
     ]
    }
   ],
   "source": [
    "!python3 preprocess_data.py \\\n",
    "  --wandb_project \"wandb-homework\" \\\n",
    "  --wandb_entity \"ugaray96\" \\\n",
    "  --raw_data_path \"data/\" \\\n",
    "  --dest_path \"./output\""
   ]
  },
  {
   "attachments": {},
   "cell_type": "markdown",
   "metadata": {},
   "source": [
    "Once you navigate to the Files tab of your artifact on your Weights & Biases page, what's the size of the saved DictVectorizer file?"
   ]
  },
  {
   "attachments": {},
   "cell_type": "markdown",
   "metadata": {},
   "source": [
    "* 54 kB\n",
    "\n",
    "* --> **154 kB** <--\n",
    "\n",
    "* 54 MB\n",
    "\n",
    "* 154 MB"
   ]
  },
  {
   "attachments": {},
   "cell_type": "markdown",
   "metadata": {},
   "source": [
    "## Q3. Train a model with Weights & Biases logging\n",
    "\n",
    "We will train a RandomForestRegressor (from Scikit-Learn) on the taxi dataset.\n",
    "\n",
    "We have prepared the training script train.py for this exercise, which can be also found in the folder homework-wandb.\n",
    "\n",
    "The script will:\n",
    "\n",
    "* initialize a Weights & Biases run.\n",
    "\n",
    "* load the preprocessed datasets by fetching them from the Weights & Biases artifact previously created,\n",
    "\n",
    "* train the model on the training set,\n",
    "\n",
    "* calculate the MSE score on the validation set and log it to Weights & Biases,\n",
    "\n",
    "* save the trained model and log it to Weights & Biases as a model artifact.\n",
    "\n",
    "Your task is to modify the script to enable to add Weights & Biases logging, execute the script and then check the Weights & Biases run UI to check that the experiment run was properly tracked.\n",
    "\n",
    "TODO 1: log mse to Weights & Biases under the key \"MSE\"\n",
    "\n",
    "TODO 2: log regressor.pkl as an artifact of type model, refer to the official docs in order to know more about logging artifacts.\n",
    "\n",
    "You can run the script using:"
   ]
  },
  {
   "cell_type": "code",
   "execution_count": 6,
   "metadata": {},
   "outputs": [
    {
     "name": "stdout",
     "output_type": "stream",
     "text": [
      "\u001b[34m\u001b[1mwandb\u001b[0m: Currently logged in as: \u001b[33mugaray96\u001b[0m. Use \u001b[1m`wandb login --relogin`\u001b[0m to force relogin\n",
      "\u001b[34m\u001b[1mwandb\u001b[0m: Tracking run with wandb version 0.15.3\n",
      "\u001b[34m\u001b[1mwandb\u001b[0m: Run data is saved locally in \u001b[35m\u001b[1m/Users/unaigaraymaestre/Desktop/Developer/mlops-zoomcamp-workshop/02-experiment-tracking/wandb-homework/wandb/run-20230605_223707-jjq2o81j\u001b[0m\n",
      "\u001b[34m\u001b[1mwandb\u001b[0m: Run \u001b[1m`wandb offline`\u001b[0m to turn off syncing.\n",
      "\u001b[34m\u001b[1mwandb\u001b[0m: Syncing run \u001b[33mdutiful-paper-5\u001b[0m\n",
      "\u001b[34m\u001b[1mwandb\u001b[0m: ⭐️ View project at \u001b[34m\u001b[4mhttps://wandb.ai/ugaray96/wandb-homework\u001b[0m\n",
      "\u001b[34m\u001b[1mwandb\u001b[0m: 🚀 View run at \u001b[34m\u001b[4mhttps://wandb.ai/ugaray96/wandb-homework/runs/jjq2o81j\u001b[0m\n",
      "\u001b[34m\u001b[1mwandb\u001b[0m:   4 of 4 files downloaded.  \n",
      "\u001b[34m\u001b[1mwandb\u001b[0m: Waiting for W&B process to finish... \u001b[32m(success).\u001b[0m\n",
      "\u001b[34m\u001b[1mwandb\u001b[0m: \n",
      "\u001b[34m\u001b[1mwandb\u001b[0m: Run history:\n",
      "\u001b[34m\u001b[1mwandb\u001b[0m: MSE ▁\n",
      "\u001b[34m\u001b[1mwandb\u001b[0m: \n",
      "\u001b[34m\u001b[1mwandb\u001b[0m: Run summary:\n",
      "\u001b[34m\u001b[1mwandb\u001b[0m: MSE 2.45398\n",
      "\u001b[34m\u001b[1mwandb\u001b[0m: \n",
      "\u001b[34m\u001b[1mwandb\u001b[0m: 🚀 View run \u001b[33mdutiful-paper-5\u001b[0m at: \u001b[34m\u001b[4mhttps://wandb.ai/ugaray96/wandb-homework/runs/jjq2o81j\u001b[0m\n",
      "\u001b[34m\u001b[1mwandb\u001b[0m: Synced 6 W&B file(s), 0 media file(s), 1 artifact file(s) and 0 other file(s)\n",
      "\u001b[34m\u001b[1mwandb\u001b[0m: Find logs at: \u001b[35m\u001b[1m./wandb/run-20230605_223707-jjq2o81j/logs\u001b[0m\n"
     ]
    }
   ],
   "source": [
    "!python train.py \\\n",
    "  --wandb_project \"wandb-homework\" \\\n",
    "  --wandb_entity \"ugaray96\" \\\n",
    "  --data_artifact \"ugaray96/wandb-homework/NYC-Taxi:v1\""
   ]
  },
  {
   "attachments": {},
   "cell_type": "markdown",
   "metadata": {},
   "source": [
    "Once you have successfully ran the script, navigate the Overview section of the run in the Weights & Biases UI and scroll down to the Configs. What is the value of the max_depth parameter:\n",
    "\n",
    "* 4\n",
    "\n",
    "* 6\n",
    "\n",
    "* 8\n",
    "\n",
    "* --> **10** <--"
   ]
  },
  {
   "attachments": {},
   "cell_type": "markdown",
   "metadata": {},
   "source": [
    "## Q4. Tune model hyperparameters\n",
    "\n",
    "Now let's try to reduce the validation error by tuning the hyperparameters of the RandomForestRegressor using Weights & Biases Sweeps. We have prepared the script sweep.py for this exercise in the homework-wandb directory.\n",
    "\n",
    "Your task is to modify sweep.py to pass the parameters n_estimators, min_samples_split and min_samples_leaf from config to RandomForestRegressor inside the run_train() function. Then we will run the sweep to figure out not only the best best of hyperparameters for training our model, but also to analyze the most optimum trends in different hyperparameters. \n",
    "\n",
    "This command will run the sweep for 5 iterations using the Bayesian Optimization and HyperBand method proposed by the paper BOHB: Robust and Efficient Hyperparameter Optimization at Scale.\n",
    "\n",
    "We can run the sweep using:"
   ]
  },
  {
   "cell_type": "code",
   "execution_count": 7,
   "metadata": {},
   "outputs": [
    {
     "name": "stdout",
     "output_type": "stream",
     "text": [
      "Create sweep with ID: prg98a13\n",
      "Sweep URL: https://wandb.ai/ugaray96/wandb-homework/sweeps/prg98a13\n",
      "\u001b[34m\u001b[1mwandb\u001b[0m: Agent Starting Run: iqqlo5cx with config:\n",
      "\u001b[34m\u001b[1mwandb\u001b[0m: \tmax_depth: 3\n",
      "\u001b[34m\u001b[1mwandb\u001b[0m: \tmin_samples_leaf: 4\n",
      "\u001b[34m\u001b[1mwandb\u001b[0m: \tmin_samples_split: 5\n",
      "\u001b[34m\u001b[1mwandb\u001b[0m: \tn_estimators: 46\n",
      "\u001b[34m\u001b[1mwandb\u001b[0m: Currently logged in as: \u001b[33mugaray96\u001b[0m. Use \u001b[1m`wandb login --relogin`\u001b[0m to force relogin\n",
      "\u001b[34m\u001b[1mwandb\u001b[0m: Tracking run with wandb version 0.15.3\n",
      "\u001b[34m\u001b[1mwandb\u001b[0m: Run data is saved locally in \u001b[35m\u001b[1m/Users/unaigaraymaestre/Desktop/Developer/mlops-zoomcamp-workshop/02-experiment-tracking/wandb-homework/wandb/run-20230605_224534-iqqlo5cx\u001b[0m\n",
      "\u001b[34m\u001b[1mwandb\u001b[0m: Run \u001b[1m`wandb offline`\u001b[0m to turn off syncing.\n",
      "\u001b[34m\u001b[1mwandb\u001b[0m: Syncing run \u001b[33mnoble-sweep-1\u001b[0m\n",
      "\u001b[34m\u001b[1mwandb\u001b[0m: ⭐️ View project at \u001b[34m\u001b[4mhttps://wandb.ai/ugaray96/wandb-homework\u001b[0m\n",
      "\u001b[34m\u001b[1mwandb\u001b[0m: 🧹 View sweep at \u001b[34m\u001b[4mhttps://wandb.ai/ugaray96/wandb-homework/sweeps/prg98a13\u001b[0m\n",
      "\u001b[34m\u001b[1mwandb\u001b[0m: 🚀 View run at \u001b[34m\u001b[4mhttps://wandb.ai/ugaray96/wandb-homework/runs/iqqlo5cx\u001b[0m\n",
      "\u001b[34m\u001b[1mwandb\u001b[0m:   4 of 4 files downloaded.  \n",
      "\u001b[34m\u001b[1mwandb\u001b[0m: Waiting for W&B process to finish... \u001b[32m(success).\u001b[0m\n",
      "\u001b[34m\u001b[1mwandb\u001b[0m: \n",
      "\u001b[34m\u001b[1mwandb\u001b[0m: Run history:\n",
      "\u001b[34m\u001b[1mwandb\u001b[0m: MSE ▁\n",
      "\u001b[34m\u001b[1mwandb\u001b[0m: \n",
      "\u001b[34m\u001b[1mwandb\u001b[0m: Run summary:\n",
      "\u001b[34m\u001b[1mwandb\u001b[0m: MSE 2.47036\n",
      "\u001b[34m\u001b[1mwandb\u001b[0m: \n",
      "\u001b[34m\u001b[1mwandb\u001b[0m: 🚀 View run \u001b[33mnoble-sweep-1\u001b[0m at: \u001b[34m\u001b[4mhttps://wandb.ai/ugaray96/wandb-homework/runs/iqqlo5cx\u001b[0m\n",
      "\u001b[34m\u001b[1mwandb\u001b[0m: Synced 6 W&B file(s), 0 media file(s), 1 artifact file(s) and 0 other file(s)\n",
      "\u001b[34m\u001b[1mwandb\u001b[0m: Find logs at: \u001b[35m\u001b[1m./wandb/run-20230605_224534-iqqlo5cx/logs\u001b[0m\n",
      "\u001b[34m\u001b[1mwandb\u001b[0m: Agent Starting Run: jmuuyceq with config:\n",
      "\u001b[34m\u001b[1mwandb\u001b[0m: \tmax_depth: 17\n",
      "\u001b[34m\u001b[1mwandb\u001b[0m: \tmin_samples_leaf: 2\n",
      "\u001b[34m\u001b[1mwandb\u001b[0m: \tmin_samples_split: 10\n",
      "\u001b[34m\u001b[1mwandb\u001b[0m: \tn_estimators: 27\n",
      "\u001b[34m\u001b[1mwandb\u001b[0m: Tracking run with wandb version 0.15.3\n",
      "\u001b[34m\u001b[1mwandb\u001b[0m: Run data is saved locally in \u001b[35m\u001b[1m/Users/unaigaraymaestre/Desktop/Developer/mlops-zoomcamp-workshop/02-experiment-tracking/wandb-homework/wandb/run-20230605_224550-jmuuyceq\u001b[0m\n",
      "\u001b[34m\u001b[1mwandb\u001b[0m: Run \u001b[1m`wandb offline`\u001b[0m to turn off syncing.\n",
      "\u001b[34m\u001b[1mwandb\u001b[0m: Syncing run \u001b[33mdaily-sweep-2\u001b[0m\n",
      "\u001b[34m\u001b[1mwandb\u001b[0m: ⭐️ View project at \u001b[34m\u001b[4mhttps://wandb.ai/ugaray96/wandb-homework\u001b[0m\n",
      "\u001b[34m\u001b[1mwandb\u001b[0m: 🧹 View sweep at \u001b[34m\u001b[4mhttps://wandb.ai/ugaray96/wandb-homework/sweeps/prg98a13\u001b[0m\n",
      "\u001b[34m\u001b[1mwandb\u001b[0m: 🚀 View run at \u001b[34m\u001b[4mhttps://wandb.ai/ugaray96/wandb-homework/runs/jmuuyceq\u001b[0m\n",
      "\u001b[34m\u001b[1mwandb\u001b[0m:   4 of 4 files downloaded.  \n",
      "\u001b[34m\u001b[1mwandb\u001b[0m: Waiting for W&B process to finish... \u001b[32m(success).\u001b[0m\n",
      "\u001b[34m\u001b[1mwandb\u001b[0m: \n",
      "\u001b[34m\u001b[1mwandb\u001b[0m: Run history:\n",
      "\u001b[34m\u001b[1mwandb\u001b[0m: MSE ▁\n",
      "\u001b[34m\u001b[1mwandb\u001b[0m: \n",
      "\u001b[34m\u001b[1mwandb\u001b[0m: Run summary:\n",
      "\u001b[34m\u001b[1mwandb\u001b[0m: MSE 2.44841\n",
      "\u001b[34m\u001b[1mwandb\u001b[0m: \n",
      "\u001b[34m\u001b[1mwandb\u001b[0m: 🚀 View run \u001b[33mdaily-sweep-2\u001b[0m at: \u001b[34m\u001b[4mhttps://wandb.ai/ugaray96/wandb-homework/runs/jmuuyceq\u001b[0m\n",
      "\u001b[34m\u001b[1mwandb\u001b[0m: Synced 6 W&B file(s), 0 media file(s), 1 artifact file(s) and 0 other file(s)\n",
      "\u001b[34m\u001b[1mwandb\u001b[0m: Find logs at: \u001b[35m\u001b[1m./wandb/run-20230605_224550-jmuuyceq/logs\u001b[0m\n",
      "\u001b[34m\u001b[1mwandb\u001b[0m: Sweep Agent: Waiting for job.\n",
      "\u001b[34m\u001b[1mwandb\u001b[0m: Job received.\n",
      "\u001b[34m\u001b[1mwandb\u001b[0m: Agent Starting Run: hpmq8exx with config:\n",
      "\u001b[34m\u001b[1mwandb\u001b[0m: \tmax_depth: 16\n",
      "\u001b[34m\u001b[1mwandb\u001b[0m: \tmin_samples_leaf: 4\n",
      "\u001b[34m\u001b[1mwandb\u001b[0m: \tmin_samples_split: 3\n",
      "\u001b[34m\u001b[1mwandb\u001b[0m: \tn_estimators: 19\n",
      "\u001b[34m\u001b[1mwandb\u001b[0m: Tracking run with wandb version 0.15.3\n",
      "\u001b[34m\u001b[1mwandb\u001b[0m: Run data is saved locally in \u001b[35m\u001b[1m/Users/unaigaraymaestre/Desktop/Developer/mlops-zoomcamp-workshop/02-experiment-tracking/wandb-homework/wandb/run-20230605_224616-hpmq8exx\u001b[0m\n",
      "\u001b[34m\u001b[1mwandb\u001b[0m: Run \u001b[1m`wandb offline`\u001b[0m to turn off syncing.\n",
      "\u001b[34m\u001b[1mwandb\u001b[0m: Syncing run \u001b[33melectric-sweep-3\u001b[0m\n",
      "\u001b[34m\u001b[1mwandb\u001b[0m: ⭐️ View project at \u001b[34m\u001b[4mhttps://wandb.ai/ugaray96/wandb-homework\u001b[0m\n",
      "\u001b[34m\u001b[1mwandb\u001b[0m: 🧹 View sweep at \u001b[34m\u001b[4mhttps://wandb.ai/ugaray96/wandb-homework/sweeps/prg98a13\u001b[0m\n",
      "\u001b[34m\u001b[1mwandb\u001b[0m: 🚀 View run at \u001b[34m\u001b[4mhttps://wandb.ai/ugaray96/wandb-homework/runs/hpmq8exx\u001b[0m\n",
      "\u001b[34m\u001b[1mwandb\u001b[0m:   4 of 4 files downloaded.  \n",
      "\u001b[34m\u001b[1mwandb\u001b[0m: Waiting for W&B process to finish... \u001b[32m(success).\u001b[0m\n",
      "\u001b[34m\u001b[1mwandb\u001b[0m: \n",
      "\u001b[34m\u001b[1mwandb\u001b[0m: Run history:\n",
      "\u001b[34m\u001b[1mwandb\u001b[0m: MSE ▁\n",
      "\u001b[34m\u001b[1mwandb\u001b[0m: \n",
      "\u001b[34m\u001b[1mwandb\u001b[0m: Run summary:\n",
      "\u001b[34m\u001b[1mwandb\u001b[0m: MSE 2.45177\n",
      "\u001b[34m\u001b[1mwandb\u001b[0m: \n",
      "\u001b[34m\u001b[1mwandb\u001b[0m: 🚀 View run \u001b[33melectric-sweep-3\u001b[0m at: \u001b[34m\u001b[4mhttps://wandb.ai/ugaray96/wandb-homework/runs/hpmq8exx\u001b[0m\n",
      "\u001b[34m\u001b[1mwandb\u001b[0m: Synced 6 W&B file(s), 0 media file(s), 1 artifact file(s) and 0 other file(s)\n",
      "\u001b[34m\u001b[1mwandb\u001b[0m: Find logs at: \u001b[35m\u001b[1m./wandb/run-20230605_224616-hpmq8exx/logs\u001b[0m\n",
      "\u001b[34m\u001b[1mwandb\u001b[0m: Agent Starting Run: scxigqdb with config:\n",
      "\u001b[34m\u001b[1mwandb\u001b[0m: \tmax_depth: 8\n",
      "\u001b[34m\u001b[1mwandb\u001b[0m: \tmin_samples_leaf: 2\n",
      "\u001b[34m\u001b[1mwandb\u001b[0m: \tmin_samples_split: 6\n",
      "\u001b[34m\u001b[1mwandb\u001b[0m: \tn_estimators: 30\n",
      "\u001b[34m\u001b[1mwandb\u001b[0m: Tracking run with wandb version 0.15.3\n",
      "\u001b[34m\u001b[1mwandb\u001b[0m: Run data is saved locally in \u001b[35m\u001b[1m/Users/unaigaraymaestre/Desktop/Developer/mlops-zoomcamp-workshop/02-experiment-tracking/wandb-homework/wandb/run-20230605_224632-scxigqdb\u001b[0m\n",
      "\u001b[34m\u001b[1mwandb\u001b[0m: Run \u001b[1m`wandb offline`\u001b[0m to turn off syncing.\n",
      "\u001b[34m\u001b[1mwandb\u001b[0m: Syncing run \u001b[33mhappy-sweep-4\u001b[0m\n",
      "\u001b[34m\u001b[1mwandb\u001b[0m: ⭐️ View project at \u001b[34m\u001b[4mhttps://wandb.ai/ugaray96/wandb-homework\u001b[0m\n",
      "\u001b[34m\u001b[1mwandb\u001b[0m: 🧹 View sweep at \u001b[34m\u001b[4mhttps://wandb.ai/ugaray96/wandb-homework/sweeps/prg98a13\u001b[0m\n",
      "\u001b[34m\u001b[1mwandb\u001b[0m: 🚀 View run at \u001b[34m\u001b[4mhttps://wandb.ai/ugaray96/wandb-homework/runs/scxigqdb\u001b[0m\n",
      "\u001b[34m\u001b[1mwandb\u001b[0m:   4 of 4 files downloaded.  \n",
      "\u001b[34m\u001b[1mwandb\u001b[0m: Waiting for W&B process to finish... \u001b[32m(success).\u001b[0m\n",
      "\u001b[34m\u001b[1mwandb\u001b[0m: \n",
      "\u001b[34m\u001b[1mwandb\u001b[0m: Run history:\n",
      "\u001b[34m\u001b[1mwandb\u001b[0m: MSE ▁\n",
      "\u001b[34m\u001b[1mwandb\u001b[0m: \n",
      "\u001b[34m\u001b[1mwandb\u001b[0m: Run summary:\n",
      "\u001b[34m\u001b[1mwandb\u001b[0m: MSE 2.45482\n",
      "\u001b[34m\u001b[1mwandb\u001b[0m: \n",
      "\u001b[34m\u001b[1mwandb\u001b[0m: 🚀 View run \u001b[33mhappy-sweep-4\u001b[0m at: \u001b[34m\u001b[4mhttps://wandb.ai/ugaray96/wandb-homework/runs/scxigqdb\u001b[0m\n",
      "\u001b[34m\u001b[1mwandb\u001b[0m: Synced 6 W&B file(s), 0 media file(s), 1 artifact file(s) and 0 other file(s)\n",
      "\u001b[34m\u001b[1mwandb\u001b[0m: Find logs at: \u001b[35m\u001b[1m./wandb/run-20230605_224632-scxigqdb/logs\u001b[0m\n",
      "\u001b[34m\u001b[1mwandb\u001b[0m: Agent Starting Run: 15qak0xq with config:\n",
      "\u001b[34m\u001b[1mwandb\u001b[0m: \tmax_depth: 20\n",
      "\u001b[34m\u001b[1mwandb\u001b[0m: \tmin_samples_leaf: 3\n",
      "\u001b[34m\u001b[1mwandb\u001b[0m: \tmin_samples_split: 10\n",
      "\u001b[34m\u001b[1mwandb\u001b[0m: \tn_estimators: 30\n",
      "\u001b[34m\u001b[1mwandb\u001b[0m: Tracking run with wandb version 0.15.3\n",
      "\u001b[34m\u001b[1mwandb\u001b[0m: Run data is saved locally in \u001b[35m\u001b[1m/Users/unaigaraymaestre/Desktop/Developer/mlops-zoomcamp-workshop/02-experiment-tracking/wandb-homework/wandb/run-20230605_224648-15qak0xq\u001b[0m\n",
      "\u001b[34m\u001b[1mwandb\u001b[0m: Run \u001b[1m`wandb offline`\u001b[0m to turn off syncing.\n",
      "\u001b[34m\u001b[1mwandb\u001b[0m: Syncing run \u001b[33mdaily-sweep-5\u001b[0m\n",
      "\u001b[34m\u001b[1mwandb\u001b[0m: ⭐️ View project at \u001b[34m\u001b[4mhttps://wandb.ai/ugaray96/wandb-homework\u001b[0m\n",
      "\u001b[34m\u001b[1mwandb\u001b[0m: 🧹 View sweep at \u001b[34m\u001b[4mhttps://wandb.ai/ugaray96/wandb-homework/sweeps/prg98a13\u001b[0m\n",
      "\u001b[34m\u001b[1mwandb\u001b[0m: 🚀 View run at \u001b[34m\u001b[4mhttps://wandb.ai/ugaray96/wandb-homework/runs/15qak0xq\u001b[0m\n",
      "\u001b[34m\u001b[1mwandb\u001b[0m:   4 of 4 files downloaded.  \n",
      "\u001b[34m\u001b[1mwandb\u001b[0m: Waiting for W&B process to finish... \u001b[32m(success).\u001b[0m\n",
      "\u001b[34m\u001b[1mwandb\u001b[0m: \n",
      "\u001b[34m\u001b[1mwandb\u001b[0m: Run history:\n",
      "\u001b[34m\u001b[1mwandb\u001b[0m: MSE ▁\n",
      "\u001b[34m\u001b[1mwandb\u001b[0m: \n",
      "\u001b[34m\u001b[1mwandb\u001b[0m: Run summary:\n",
      "\u001b[34m\u001b[1mwandb\u001b[0m: MSE 2.44658\n",
      "\u001b[34m\u001b[1mwandb\u001b[0m: \n",
      "\u001b[34m\u001b[1mwandb\u001b[0m: 🚀 View run \u001b[33mdaily-sweep-5\u001b[0m at: \u001b[34m\u001b[4mhttps://wandb.ai/ugaray96/wandb-homework/runs/15qak0xq\u001b[0m\n",
      "\u001b[34m\u001b[1mwandb\u001b[0m: Synced 6 W&B file(s), 0 media file(s), 1 artifact file(s) and 0 other file(s)\n",
      "\u001b[34m\u001b[1mwandb\u001b[0m: Find logs at: \u001b[35m\u001b[1m./wandb/run-20230605_224648-15qak0xq/logs\u001b[0m\n"
     ]
    }
   ],
   "source": [
    "!python sweep.py \\\n",
    "  --wandb_project wandb-homework \\\n",
    "  --wandb_entity ugaray96 \\\n",
    "  --data_artifact \"ugaray96/wandb-homework/NYC-Taxi:v1\""
   ]
  },
  {
   "attachments": {},
   "cell_type": "markdown",
   "metadata": {},
   "source": [
    "You can take a look at the sweep on your Weights & Biases dashboard, take a look at the Parameter Inportance Panel and the Parallel Coordinates Plot to determine, and analyze which hyperparameter is the most important:\n",
    "\n",
    "* max_depth\n",
    "\n",
    "* --> **n_estimators** <--\n",
    "\n",
    "* min_samples_split\n",
    "\n",
    "* min_samples_leaf\n"
   ]
  },
  {
   "attachments": {},
   "cell_type": "markdown",
   "metadata": {},
   "source": [
    "## Q5. Link the best model to the model registry\n",
    "\n",
    "Now that we have obtained the optimal set of hyperparameters and trained the best model, we can assume that we are ready to test some of these models in production. In this exercise, you'll create a model registry and link the best model from the Sweep to the model registry.\n",
    "\n",
    "First, you will need to create a Registered Model to hold all the candidate models for your particular modeling task. You can refer to [this section](https://docs.wandb.ai/guides/models/walkthrough#1-create-a-new-registered-model) of the official docs to learn how to create a registered model using the Weights & Biases UI.\n",
    "\n",
    "Once you have created the Registered Model successfully, you can navigate to the best run of your sweep, navigate to the model artifact created by the particular run, and click on the Link to Registry option from the UI. This would link the model artifact to the Registered Model. You can choose to add some suitable aliases for the Registered Model, such as production, best, etc.\n",
    "\n",
    "Now that the model artifact is linked to the Registered Model, which of these information do we see on the Registered Model UI?"
   ]
  },
  {
   "attachments": {},
   "cell_type": "markdown",
   "metadata": {},
   "source": [
    "* Versioning\n",
    "\n",
    "* Metadata\n",
    "\n",
    "* Aliases\n",
    "\n",
    "* Metric (MSE)\n",
    "\n",
    "* Source run\n",
    "\n",
    "* --> **All of these** <--\n",
    "\n",
    "* None of these"
   ]
  },
  {
   "attachments": {},
   "cell_type": "markdown",
   "metadata": {},
   "source": [
    "![title](images/screenshot_wandb.png)"
   ]
  }
 ],
 "metadata": {
  "kernelspec": {
   "display_name": "mlops",
   "language": "python",
   "name": "python3"
  },
  "language_info": {
   "codemirror_mode": {
    "name": "ipython",
    "version": 3
   },
   "file_extension": ".py",
   "mimetype": "text/x-python",
   "name": "python",
   "nbconvert_exporter": "python",
   "pygments_lexer": "ipython3",
   "version": "3.9.15"
  },
  "orig_nbformat": 4
 },
 "nbformat": 4,
 "nbformat_minor": 2
}
