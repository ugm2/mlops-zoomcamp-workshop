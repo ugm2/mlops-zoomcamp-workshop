{
 "cells": [
  {
   "cell_type": "code",
   "execution_count": 1,
   "id": "0ef880a0",
   "metadata": {},
   "outputs": [],
   "source": [
    "import pickle\n",
    "import pandas as pd"
   ]
  },
  {
   "cell_type": "code",
   "execution_count": 2,
   "id": "7836ccfd",
   "metadata": {},
   "outputs": [],
   "source": [
    "with open('model.bin', 'rb') as f_in:\n",
    "    dv, model = pickle.load(f_in)"
   ]
  },
  {
   "cell_type": "code",
   "execution_count": 3,
   "id": "41c08294",
   "metadata": {},
   "outputs": [],
   "source": [
    "categorical = ['PULocationID', 'DOLocationID']\n",
    "\n",
    "def read_data(filename):\n",
    "    df = pd.read_parquet(filename)\n",
    "    \n",
    "    df['duration'] = df.tpep_dropoff_datetime - df.tpep_pickup_datetime\n",
    "    df['duration'] = df.duration.dt.total_seconds() / 60\n",
    "\n",
    "    df = df[(df.duration >= 1) & (df.duration <= 60)].copy()\n",
    "\n",
    "    df[categorical] = df[categorical].fillna(-1).astype('int').astype('str')\n",
    "    \n",
    "    return df"
   ]
  },
  {
   "cell_type": "code",
   "execution_count": 4,
   "id": "4854399a",
   "metadata": {},
   "outputs": [],
   "source": [
    "year = 2022\n",
    "month = 2\n",
    "taxi_type = 'yellow'\n",
    "input_file = f\"https://d37ci6vzurychx.cloudfront.net/trip-data/{taxi_type}_tripdata_{year:04d}-{month:02d}.parquet\"\n",
    "df = read_data(input_file)"
   ]
  },
  {
   "cell_type": "code",
   "execution_count": 6,
   "id": "669fda0a",
   "metadata": {},
   "outputs": [],
   "source": [
    "dicts = df[categorical].to_dict(orient='records')\n",
    "X_val = dv.transform(dicts)\n",
    "y_pred = model.predict(X_val)"
   ]
  },
  {
   "attachments": {},
   "cell_type": "markdown",
   "id": "22d67317",
   "metadata": {},
   "source": [
    "### Q1 Notebook"
   ]
  },
  {
   "cell_type": "code",
   "execution_count": 10,
   "id": "ef8150e1",
   "metadata": {},
   "outputs": [
    {
     "data": {
      "text/plain": [
       "5.28140357655334"
      ]
     },
     "execution_count": 10,
     "metadata": {},
     "output_type": "execute_result"
    }
   ],
   "source": [
    "# Q1 STDDEV of y_pred\n",
    "y_pred.std()"
   ]
  },
  {
   "attachments": {},
   "cell_type": "markdown",
   "id": "3d6486d0",
   "metadata": {},
   "source": [
    "### Q2 Preparing the output"
   ]
  },
  {
   "cell_type": "code",
   "execution_count": 11,
   "id": "d9dc4266",
   "metadata": {},
   "outputs": [],
   "source": [
    "df['ride_id'] = f'{year:04d}/{month:02d}_' + df.index.astype('str')"
   ]
  },
  {
   "cell_type": "code",
   "execution_count": 19,
   "id": "85e7b975",
   "metadata": {},
   "outputs": [],
   "source": [
    "import os\n",
    "df['duration_prediction'] = y_pred\n",
    "# Write duration_prediction and ride_id to a new dataframe\n",
    "df_result = df[['ride_id', 'duration_prediction']]\n",
    "output_file = f\"output/{taxi_type}/{year:04d}-{month:02d}.parquet\"\n",
    "os.makedirs(os.path.dirname(output_file), exist_ok=True)\n",
    "df_result.to_parquet(\n",
    "    output_file,\n",
    "    engine='pyarrow',\n",
    "    compression=None,\n",
    "    index=False\n",
    ")"
   ]
  }
 ],
 "metadata": {
  "kernelspec": {
   "display_name": "Python 3 (ipykernel)",
   "language": "python",
   "name": "python3"
  },
  "language_info": {
   "codemirror_mode": {
    "name": "ipython",
    "version": 3
   },
   "file_extension": ".py",
   "mimetype": "text/x-python",
   "name": "python",
   "nbconvert_exporter": "python",
   "pygments_lexer": "ipython3",
   "version": "3.10.12"
  }
 },
 "nbformat": 4,
 "nbformat_minor": 5
}
